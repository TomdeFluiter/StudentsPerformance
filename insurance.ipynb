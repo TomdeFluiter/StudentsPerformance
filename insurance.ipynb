{
 "cells": [
  {
   "cell_type": "code",
   "execution_count": 1,
   "metadata": {},
   "outputs": [
    {
     "data": {
      "text/html": [
       "<div>\n",
       "<style scoped>\n",
       "    .dataframe tbody tr th:only-of-type {\n",
       "        vertical-align: middle;\n",
       "    }\n",
       "\n",
       "    .dataframe tbody tr th {\n",
       "        vertical-align: top;\n",
       "    }\n",
       "\n",
       "    .dataframe thead th {\n",
       "        text-align: right;\n",
       "    }\n",
       "</style>\n",
       "<table border=\"1\" class=\"dataframe\">\n",
       "  <thead>\n",
       "    <tr style=\"text-align: right;\">\n",
       "      <th></th>\n",
       "      <th>age</th>\n",
       "      <th>sex</th>\n",
       "      <th>bmi</th>\n",
       "      <th>children</th>\n",
       "      <th>smoker</th>\n",
       "      <th>region</th>\n",
       "      <th>charges</th>\n",
       "    </tr>\n",
       "  </thead>\n",
       "  <tbody>\n",
       "    <tr>\n",
       "      <th>0</th>\n",
       "      <td>19</td>\n",
       "      <td>female</td>\n",
       "      <td>27.900</td>\n",
       "      <td>0</td>\n",
       "      <td>yes</td>\n",
       "      <td>southwest</td>\n",
       "      <td>16884.92400</td>\n",
       "    </tr>\n",
       "    <tr>\n",
       "      <th>1</th>\n",
       "      <td>18</td>\n",
       "      <td>male</td>\n",
       "      <td>33.770</td>\n",
       "      <td>1</td>\n",
       "      <td>no</td>\n",
       "      <td>southeast</td>\n",
       "      <td>1725.55230</td>\n",
       "    </tr>\n",
       "    <tr>\n",
       "      <th>2</th>\n",
       "      <td>28</td>\n",
       "      <td>male</td>\n",
       "      <td>33.000</td>\n",
       "      <td>3</td>\n",
       "      <td>no</td>\n",
       "      <td>southeast</td>\n",
       "      <td>4449.46200</td>\n",
       "    </tr>\n",
       "    <tr>\n",
       "      <th>3</th>\n",
       "      <td>33</td>\n",
       "      <td>male</td>\n",
       "      <td>22.705</td>\n",
       "      <td>0</td>\n",
       "      <td>no</td>\n",
       "      <td>northwest</td>\n",
       "      <td>21984.47061</td>\n",
       "    </tr>\n",
       "    <tr>\n",
       "      <th>4</th>\n",
       "      <td>32</td>\n",
       "      <td>male</td>\n",
       "      <td>28.880</td>\n",
       "      <td>0</td>\n",
       "      <td>no</td>\n",
       "      <td>northwest</td>\n",
       "      <td>3866.85520</td>\n",
       "    </tr>\n",
       "  </tbody>\n",
       "</table>\n",
       "</div>"
      ],
      "text/plain": [
       "   age     sex     bmi  children smoker     region      charges\n",
       "0   19  female  27.900         0    yes  southwest  16884.92400\n",
       "1   18    male  33.770         1     no  southeast   1725.55230\n",
       "2   28    male  33.000         3     no  southeast   4449.46200\n",
       "3   33    male  22.705         0     no  northwest  21984.47061\n",
       "4   32    male  28.880         0     no  northwest   3866.85520"
      ]
     },
     "execution_count": 1,
     "metadata": {},
     "output_type": "execute_result"
    }
   ],
   "source": [
    "import pandas as pd\n",
    "import statsmodels.formula.api as sm\n",
    "insurance = pd.read_csv('https://raw.githubusercontent.com/TomdeFluiter/StudentsPerformance/refs/heads/main/insurance.csv')\n",
    "insurance.head()"
   ]
  },
  {
   "cell_type": "code",
   "execution_count": 2,
   "metadata": {},
   "outputs": [
    {
     "data": {
      "text/html": [
       "<div>\n",
       "<style scoped>\n",
       "    .dataframe tbody tr th:only-of-type {\n",
       "        vertical-align: middle;\n",
       "    }\n",
       "\n",
       "    .dataframe tbody tr th {\n",
       "        vertical-align: top;\n",
       "    }\n",
       "\n",
       "    .dataframe thead th {\n",
       "        text-align: right;\n",
       "    }\n",
       "</style>\n",
       "<table border=\"1\" class=\"dataframe\">\n",
       "  <thead>\n",
       "    <tr style=\"text-align: right;\">\n",
       "      <th></th>\n",
       "      <th>age</th>\n",
       "      <th>sex</th>\n",
       "      <th>bmi</th>\n",
       "      <th>children</th>\n",
       "      <th>smoker</th>\n",
       "      <th>region</th>\n",
       "      <th>charges</th>\n",
       "      <th>sex_female</th>\n",
       "      <th>sex_male</th>\n",
       "      <th>smoker_no</th>\n",
       "      <th>smoker_yes</th>\n",
       "    </tr>\n",
       "  </thead>\n",
       "  <tbody>\n",
       "    <tr>\n",
       "      <th>0</th>\n",
       "      <td>19</td>\n",
       "      <td>female</td>\n",
       "      <td>27.900</td>\n",
       "      <td>0</td>\n",
       "      <td>yes</td>\n",
       "      <td>southwest</td>\n",
       "      <td>16884.92400</td>\n",
       "      <td>1</td>\n",
       "      <td>0</td>\n",
       "      <td>0</td>\n",
       "      <td>1</td>\n",
       "    </tr>\n",
       "    <tr>\n",
       "      <th>1</th>\n",
       "      <td>18</td>\n",
       "      <td>male</td>\n",
       "      <td>33.770</td>\n",
       "      <td>1</td>\n",
       "      <td>no</td>\n",
       "      <td>southeast</td>\n",
       "      <td>1725.55230</td>\n",
       "      <td>0</td>\n",
       "      <td>1</td>\n",
       "      <td>1</td>\n",
       "      <td>0</td>\n",
       "    </tr>\n",
       "    <tr>\n",
       "      <th>2</th>\n",
       "      <td>28</td>\n",
       "      <td>male</td>\n",
       "      <td>33.000</td>\n",
       "      <td>3</td>\n",
       "      <td>no</td>\n",
       "      <td>southeast</td>\n",
       "      <td>4449.46200</td>\n",
       "      <td>0</td>\n",
       "      <td>1</td>\n",
       "      <td>1</td>\n",
       "      <td>0</td>\n",
       "    </tr>\n",
       "    <tr>\n",
       "      <th>3</th>\n",
       "      <td>33</td>\n",
       "      <td>male</td>\n",
       "      <td>22.705</td>\n",
       "      <td>0</td>\n",
       "      <td>no</td>\n",
       "      <td>northwest</td>\n",
       "      <td>21984.47061</td>\n",
       "      <td>0</td>\n",
       "      <td>1</td>\n",
       "      <td>1</td>\n",
       "      <td>0</td>\n",
       "    </tr>\n",
       "    <tr>\n",
       "      <th>4</th>\n",
       "      <td>32</td>\n",
       "      <td>male</td>\n",
       "      <td>28.880</td>\n",
       "      <td>0</td>\n",
       "      <td>no</td>\n",
       "      <td>northwest</td>\n",
       "      <td>3866.85520</td>\n",
       "      <td>0</td>\n",
       "      <td>1</td>\n",
       "      <td>1</td>\n",
       "      <td>0</td>\n",
       "    </tr>\n",
       "  </tbody>\n",
       "</table>\n",
       "</div>"
      ],
      "text/plain": [
       "   age     sex     bmi  children smoker     region      charges  sex_female  \\\n",
       "0   19  female  27.900         0    yes  southwest  16884.92400           1   \n",
       "1   18    male  33.770         1     no  southeast   1725.55230           0   \n",
       "2   28    male  33.000         3     no  southeast   4449.46200           0   \n",
       "3   33    male  22.705         0     no  northwest  21984.47061           0   \n",
       "4   32    male  28.880         0     no  northwest   3866.85520           0   \n",
       "\n",
       "   sex_male  smoker_no  smoker_yes  \n",
       "0         0          0           1  \n",
       "1         1          1           0  \n",
       "2         1          1           0  \n",
       "3         1          1           0  \n",
       "4         1          1           0  "
      ]
     },
     "execution_count": 2,
     "metadata": {},
     "output_type": "execute_result"
    }
   ],
   "source": [
    "insurance_dummies = pd.get_dummies(insurance[['sex','smoker']], dtype = int)\n",
    "insurance2 = pd.concat([insurance,insurance_dummies], axis=1)\n",
    "insurance2.head()"
   ]
  },
  {
   "cell_type": "code",
   "execution_count": 3,
   "metadata": {},
   "outputs": [
    {
     "name": "stdout",
     "output_type": "stream",
     "text": [
      "                            OLS Regression Results                            \n",
      "==============================================================================\n",
      "Dep. Variable:                charges   R-squared:                       0.003\n",
      "Model:                            OLS   Adj. R-squared:                  0.003\n",
      "Method:                 Least Squares   F-statistic:                     4.400\n",
      "Date:                Tue, 22 Oct 2024   Prob (F-statistic):             0.0361\n",
      "Time:                        10:53:55   Log-Likelihood:                -14475.\n",
      "No. Observations:                1338   AIC:                         2.895e+04\n",
      "Df Residuals:                    1336   BIC:                         2.897e+04\n",
      "Df Model:                           1                                         \n",
      "Covariance Type:            nonrobust                                         \n",
      "==============================================================================\n",
      "                 coef    std err          t      P>|t|      [0.025      0.975]\n",
      "------------------------------------------------------------------------------\n",
      "Intercept   1.257e+04    470.072     26.740      0.000    1.16e+04    1.35e+04\n",
      "sex_male    1387.1723    661.331      2.098      0.036      89.812    2684.532\n",
      "==============================================================================\n",
      "Omnibus:                      331.451   Durbin-Watson:                   2.011\n",
      "Prob(Omnibus):                  0.000   Jarque-Bera (JB):              636.534\n",
      "Skew:                           1.496   Prob(JB):                    6.00e-139\n",
      "Kurtosis:                       4.572   Cond. No.                         2.63\n",
      "==============================================================================\n",
      "\n",
      "Notes:\n",
      "[1] Standard Errors assume that the covariance matrix of the errors is correctly specified.\n",
      "                            OLS Regression Results                            \n",
      "==============================================================================\n",
      "Dep. Variable:                charges   R-squared:                       0.620\n",
      "Model:                            OLS   Adj. R-squared:                  0.619\n",
      "Method:                 Least Squares   F-statistic:                     1088.\n",
      "Date:                Tue, 22 Oct 2024   Prob (F-statistic):          4.78e-281\n",
      "Time:                        10:53:55   Log-Likelihood:                -13831.\n",
      "No. Observations:                1338   AIC:                         2.767e+04\n",
      "Df Residuals:                    1335   BIC:                         2.768e+04\n",
      "Df Model:                           2                                         \n",
      "Covariance Type:            nonrobust                                         \n",
      "==============================================================================\n",
      "                 coef    std err          t      P>|t|      [0.025      0.975]\n",
      "------------------------------------------------------------------------------\n",
      "Intercept   8466.0358    303.541     27.891      0.000    7870.566    9061.506\n",
      "sex_male     -65.3784    409.809     -0.160      0.873    -869.318     738.561\n",
      "smoker_yes  2.362e+04    507.736     46.524      0.000    2.26e+04    2.46e+04\n",
      "==============================================================================\n",
      "Omnibus:                      135.842   Durbin-Watson:                   2.025\n",
      "Prob(Omnibus):                  0.000   Jarque-Bera (JB):              211.897\n",
      "Skew:                           0.727   Prob(JB):                     9.71e-47\n",
      "Kurtosis:                       4.299   Cond. No.                         2.97\n",
      "==============================================================================\n",
      "\n",
      "Notes:\n",
      "[1] Standard Errors assume that the covariance matrix of the errors is correctly specified.\n",
      "                            OLS Regression Results                            \n",
      "==============================================================================\n",
      "Dep. Variable:                charges   R-squared:                       0.620\n",
      "Model:                            OLS   Adj. R-squared:                  0.619\n",
      "Method:                 Least Squares   F-statistic:                     1088.\n",
      "Date:                Tue, 22 Oct 2024   Prob (F-statistic):          4.78e-281\n",
      "Time:                        10:53:55   Log-Likelihood:                -13831.\n",
      "No. Observations:                1338   AIC:                         2.767e+04\n",
      "Df Residuals:                    1335   BIC:                         2.768e+04\n",
      "Df Model:                           2                                         \n",
      "Covariance Type:            nonrobust                                         \n",
      "==============================================================================\n",
      "                 coef    std err          t      P>|t|      [0.025      0.975]\n",
      "------------------------------------------------------------------------------\n",
      "Intercept   3.202e+04    483.112     66.284      0.000    3.11e+04     3.3e+04\n",
      "sex_female    65.3784    409.809      0.160      0.873    -738.561     869.318\n",
      "smoker_no  -2.362e+04    507.736    -46.524      0.000   -2.46e+04   -2.26e+04\n",
      "==============================================================================\n",
      "Omnibus:                      135.842   Durbin-Watson:                   2.025\n",
      "Prob(Omnibus):                  0.000   Jarque-Bera (JB):              211.897\n",
      "Skew:                           0.727   Prob(JB):                     9.71e-47\n",
      "Kurtosis:                       4.299   Cond. No.                         4.61\n",
      "==============================================================================\n",
      "\n",
      "Notes:\n",
      "[1] Standard Errors assume that the covariance matrix of the errors is correctly specified.\n",
      "                            OLS Regression Results                            \n",
      "==============================================================================\n",
      "Dep. Variable:                charges   R-squared:                       0.620\n",
      "Model:                            OLS   Adj. R-squared:                  0.619\n",
      "Method:                 Least Squares   F-statistic:                     2178.\n",
      "Date:                Tue, 22 Oct 2024   Prob (F-statistic):          8.27e-283\n",
      "Time:                        10:53:55   Log-Likelihood:                -13831.\n",
      "No. Observations:                1338   AIC:                         2.767e+04\n",
      "Df Residuals:                    1336   BIC:                         2.768e+04\n",
      "Df Model:                           1                                         \n",
      "Covariance Type:            nonrobust                                         \n",
      "==============================================================================\n",
      "                 coef    std err          t      P>|t|      [0.025      0.975]\n",
      "------------------------------------------------------------------------------\n",
      "Intercept   8434.2683    229.014     36.829      0.000    7985.002    8883.535\n",
      "smoker_yes  2.362e+04    506.075     46.665      0.000    2.26e+04    2.46e+04\n",
      "==============================================================================\n",
      "Omnibus:                      135.996   Durbin-Watson:                   2.025\n",
      "Prob(Omnibus):                  0.000   Jarque-Bera (JB):              212.201\n",
      "Skew:                           0.727   Prob(JB):                     8.34e-47\n",
      "Kurtosis:                       4.300   Cond. No.                         2.60\n",
      "==============================================================================\n",
      "\n",
      "Notes:\n",
      "[1] Standard Errors assume that the covariance matrix of the errors is correctly specified.\n"
     ]
    }
   ],
   "source": [
    "model1 = sm.ols('charges~sex_male', data=insurance2).fit()\n",
    "print(model1.summary())\n",
    "\n",
    "model2 = sm.ols('charges~sex_male+smoker_yes', data=insurance2).fit()\n",
    "print(model2.summary())\n",
    "\n",
    "model3 = sm.ols('charges~sex_female+smoker_no', data=insurance2).fit()\n",
    "print(model3.summary())\n",
    "\n",
    "model4 = sm.ols('charges~smoker_yes', data=insurance2).fit()\n",
    "print(model4.summary())"
   ]
  },
  {
   "cell_type": "code",
   "execution_count": 4,
   "metadata": {},
   "outputs": [
    {
     "name": "stdout",
     "output_type": "stream",
     "text": [
      "                            OLS Regression Results                            \n",
      "==============================================================================\n",
      "Dep. Variable:                charges   R-squared:                       0.117\n",
      "Model:                            OLS   Adj. R-squared:                  0.116\n",
      "Method:                 Least Squares   F-statistic:                     88.60\n",
      "Date:                Tue, 22 Oct 2024   Prob (F-statistic):           7.39e-37\n",
      "Time:                        10:53:56   Log-Likelihood:                -14394.\n",
      "No. Observations:                1338   AIC:                         2.879e+04\n",
      "Df Residuals:                    1335   BIC:                         2.881e+04\n",
      "Df Model:                           2                                         \n",
      "Covariance Type:            nonrobust                                         \n",
      "==============================================================================\n",
      "                 coef    std err          t      P>|t|      [0.025      0.975]\n",
      "------------------------------------------------------------------------------\n",
      "Intercept   1.327e+04    311.298     42.629      0.000    1.27e+04    1.39e+04\n",
      "age         3397.8474    313.174     10.850      0.000    2783.481    4012.213\n",
      "bmi         2029.7244    313.174      6.481      0.000    1415.358    2644.091\n",
      "==============================================================================\n",
      "Omnibus:                      321.874   Durbin-Watson:                   2.010\n",
      "Prob(Omnibus):                  0.000   Jarque-Bera (JB):              592.574\n",
      "Skew:                           1.511   Prob(JB):                    2.11e-129\n",
      "Kurtosis:                       4.223   Cond. No.                         1.12\n",
      "==============================================================================\n",
      "\n",
      "Notes:\n",
      "[1] Standard Errors assume that the covariance matrix of the errors is correctly specified.\n"
     ]
    }
   ],
   "source": [
    "from sklearn.preprocessing import StandardScaler\n",
    "insurance3 = insurance2.copy()\n",
    "insurance3[['age','bmi']] = StandardScaler().fit_transform(insurance3[['age','bmi']])\n",
    "\n",
    "model5 = sm.ols('charges~age+bmi', data=insurance3).fit()\n",
    "print(model5.summary())"
   ]
  },
  {
   "cell_type": "code",
   "execution_count": 5,
   "metadata": {},
   "outputs": [
    {
     "data": {
      "text/plain": [
       "'\\nfrom stargazer.stargazer import Stargazer\\nfrom IPython.core.display import HTML\\n\\nTable = Stargazer([model5])\\n\\nHTML(Table.render_html())\\n\\n#werkt alleen in Jupyter (niet in Python)\\n'"
      ]
     },
     "execution_count": 5,
     "metadata": {},
     "output_type": "execute_result"
    }
   ],
   "source": [
    "\"\"\"\n",
    "from stargazer.stargazer import Stargazer\n",
    "from IPython.core.display import HTML\n",
    "\n",
    "Table = Stargazer([model5])\n",
    "\n",
    "HTML(Table.render_html())\n",
    "\n",
    "#werkt alleen in Jupyter (niet in Python)\n",
    "\"\"\""
   ]
  },
  {
   "cell_type": "code",
   "execution_count": 6,
   "metadata": {},
   "outputs": [
    {
     "name": "stdout",
     "output_type": "stream",
     "text": [
      "        age     sex       bmi  children smoker     region      charges  \\\n",
      "0 -1.438764  female -0.453320         0    yes  southwest  16884.92400   \n",
      "1 -1.509965    male  0.509621         1     no  southeast   1725.55230   \n",
      "2 -0.797954    male  0.383307         3     no  southeast   4449.46200   \n",
      "3 -0.441948    male -1.305531         0     no  northwest  21984.47061   \n",
      "4 -0.513149    male -0.292556         0     no  northwest   3866.85520   \n",
      "\n",
      "   sex_female  sex_male  smoker_no  smoker_yes east_west  \n",
      "0           1         0          0           1      west  \n",
      "1           0         1          1           0      east  \n",
      "2           0         1          1           0      east  \n",
      "3           0         1          1           0      west  \n",
      "4           0         1          1           0      west  \n"
     ]
    }
   ],
   "source": [
    "import numpy as np\n",
    "\n",
    "insurance3['east_west'] = np.where(insurance3['region'].isin(['northeast', 'southeast']), 'east', 'west')\n",
    "\n",
    "print(insurance3.head())"
   ]
  },
  {
   "cell_type": "code",
   "execution_count": 7,
   "metadata": {},
   "outputs": [
    {
     "name": "stdout",
     "output_type": "stream",
     "text": [
      "     variable       VIF\n",
      "0       const  4.718352\n",
      "1         age  1.372390\n",
      "2         bmi  1.119867\n",
      "3    children  1.011153\n",
      "4     charges  3.995565\n",
      "5    sex_male  1.008991\n",
      "6  smoker_yes  3.526459\n"
     ]
    }
   ],
   "source": [
    "from statsmodels.stats.outliers_influence import variance_inflation_factor as vif \n",
    "from statsmodels.tools.tools import add_constant\n",
    "\n",
    "X = insurance3.drop(columns=['sex_female', 'smoker_no']).select_dtypes(include=[np.number]).dropna()\n",
    "X = add_constant(X)\n",
    "\n",
    "VIF_data = pd.DataFrame()\n",
    "VIF_data[\"variable\"] = X.columns\n",
    "VIF_data[\"VIF\"] = [vif(X,i)\n",
    "    for i in range(len(X.columns))]\n",
    "print(VIF_data)"
   ]
  },
  {
   "cell_type": "code",
   "execution_count": 8,
   "metadata": {},
   "outputs": [
    {
     "name": "stdout",
     "output_type": "stream",
     "text": [
      "                            OLS Regression Results                            \n",
      "==============================================================================\n",
      "Dep. Variable:                charges   R-squared:                       0.005\n",
      "Model:                            OLS   Adj. R-squared:                  0.004\n",
      "Method:                 Least Squares   F-statistic:                     6.829\n",
      "Date:                Tue, 22 Oct 2024   Prob (F-statistic):            0.00907\n",
      "Time:                        10:53:56   Log-Likelihood:                -14474.\n",
      "No. Observations:                1338   AIC:                         2.895e+04\n",
      "Df Residuals:                    1336   BIC:                         2.896e+04\n",
      "Df Model:                           1                                         \n",
      "Covariance Type:            nonrobust                                         \n",
      "=====================================================================================\n",
      "                        coef    std err          t      P>|t|      [0.025      0.975]\n",
      "-------------------------------------------------------------------------------------\n",
      "Intercept          1.411e+04    460.687     30.627      0.000    1.32e+04     1.5e+04\n",
      "east_west[T.west] -1727.2761    660.963     -2.613      0.009   -3023.914    -430.638\n",
      "==============================================================================\n",
      "Omnibus:                      332.714   Durbin-Watson:                   2.003\n",
      "Prob(Omnibus):                  0.000   Jarque-Bera (JB):              640.370\n",
      "Skew:                           1.500   Prob(JB):                    8.82e-140\n",
      "Kurtosis:                       4.577   Cond. No.                         2.59\n",
      "==============================================================================\n",
      "\n",
      "Notes:\n",
      "[1] Standard Errors assume that the covariance matrix of the errors is correctly specified.\n",
      "                            OLS Regression Results                            \n",
      "==============================================================================\n",
      "Dep. Variable:                charges   R-squared:                       0.658\n",
      "Model:                            OLS   Adj. R-squared:                  0.657\n",
      "Method:                 Least Squares   F-statistic:                     855.3\n",
      "Date:                Tue, 22 Oct 2024   Prob (F-statistic):          4.11e-310\n",
      "Time:                        10:53:56   Log-Likelihood:                -13760.\n",
      "No. Observations:                1338   AIC:                         2.753e+04\n",
      "Df Residuals:                    1334   BIC:                         2.755e+04\n",
      "Df Model:                           3                                         \n",
      "Covariance Type:            nonrobust                                         \n",
      "=====================================================================================\n",
      "                        coef    std err          t      P>|t|      [0.025      0.975]\n",
      "-------------------------------------------------------------------------------------\n",
      "Intercept          8409.1556    293.002     28.700      0.000    7834.360    8983.951\n",
      "east_west[T.west]    59.0205    391.550      0.151      0.880    -709.101     827.142\n",
      "smoker_yes          2.36e+04    481.325     49.028      0.000    2.27e+04    2.45e+04\n",
      "bmi                2368.8972    195.304     12.129      0.000    1985.761    2752.033\n",
      "==============================================================================\n",
      "Omnibus:                      153.813   Durbin-Watson:                   2.035\n",
      "Prob(Omnibus):                  0.000   Jarque-Bera (JB):              239.439\n",
      "Skew:                           0.806   Prob(JB):                     1.02e-52\n",
      "Kurtosis:                       4.303   Cond. No.                         3.06\n",
      "==============================================================================\n",
      "\n",
      "Notes:\n",
      "[1] Standard Errors assume that the covariance matrix of the errors is correctly specified.\n"
     ]
    }
   ],
   "source": [
    "model6 = sm.ols('charges~east_west', data=insurance3).fit()\n",
    "print(model6.summary())\n",
    "\n",
    "model7 = sm.ols('charges~east_west+smoker_yes+bmi', data=insurance3).fit()\n",
    "print(model7.summary()) #smoking & bmi"
   ]
  },
  {
   "cell_type": "code",
   "execution_count": 9,
   "metadata": {},
   "outputs": [
    {
     "name": "stdout",
     "output_type": "stream",
     "text": [
      "the average prediction error with full data is 4221\n"
     ]
    }
   ],
   "source": [
    "from sklearn.model_selection import RepeatedKFold, cross_val_score\n",
    "from sklearn.linear_model import LinearRegression\n",
    "from numpy import mean, absolute\n",
    "from sklearn.preprocessing import MinMaxScaler\n",
    "\n",
    "insurance4 = insurance3.dropna()\n",
    "y = insurance4['charges']\n",
    "X = insurance4.select_dtypes(exclude=['object']).drop('charges', axis=1)\n",
    "X = pd.get_dummies(X, drop_first = True)\n",
    "\n",
    "cv = RepeatedKFold(n_splits=5, random_state=420)\n",
    "\n",
    "lm = LinearRegression()\n",
    "lmscores = cross_val_score(lm,X,y,scoring='neg_mean_absolute_error', cv=cv)\n",
    "\n",
    "lmMAE = mean(absolute(lmscores))\n",
    "print('the average prediction error with full data is %.0f' % lmMAE)"
   ]
  },
  {
   "cell_type": "code",
   "execution_count": 10,
   "metadata": {},
   "outputs": [
    {
     "name": "stdout",
     "output_type": "stream",
     "text": [
      "the average prediction error with full data is 4203\n"
     ]
    }
   ],
   "source": [
    "insurance4 = insurance3.dropna()\n",
    "y2 = insurance4['charges']\n",
    "X2 = insurance4.select_dtypes(exclude=['object']).drop(['charges','sex_male','sex_female'], axis=1)\n",
    "X2 = pd.get_dummies(X2, drop_first = True)\n",
    "\n",
    "cv = RepeatedKFold(n_splits=5, random_state=420)\n",
    "\n",
    "lm = LinearRegression()\n",
    "lmscores = cross_val_score(lm,X2,y2,scoring='neg_mean_absolute_error', cv=cv)\n",
    "\n",
    "lmMAE = mean(absolute(lmscores))\n",
    "print('the average prediction error with full data is %.0f' % lmMAE)"
   ]
  },
  {
   "cell_type": "code",
   "execution_count": 11,
   "metadata": {},
   "outputs": [],
   "source": [
    "columns = X.columns\n",
    "scaler = MinMaxScaler()\n",
    "X = scaler.fit_transform(X)\n",
    "X = pd.DataFrame(X, columns=columns)"
   ]
  },
  {
   "cell_type": "code",
   "execution_count": 12,
   "metadata": {},
   "outputs": [
    {
     "name": "stderr",
     "output_type": "stream",
     "text": [
      "/usr/local/python/3.12.1/lib/python3.12/site-packages/numpy/ma/core.py:2820: RuntimeWarning: invalid value encountered in cast\n",
      "  _data = np.array(data, dtype=dtype, copy=copy,\n"
     ]
    },
    {
     "name": "stdout",
     "output_type": "stream",
     "text": [
      "Best Alpha:  80\n",
      "Best Alpha:  8\n"
     ]
    }
   ],
   "source": [
    "from sklearn.linear_model import Lasso, Ridge\n",
    "from sklearn.model_selection import GridSearchCV\n",
    "alpha_range = np.arange(start=1,stop=100,step=1)\n",
    "\n",
    "cv = RepeatedKFold(n_splits=5)\n",
    "param = {'alpha':alpha_range}\n",
    "LassoModel = Lasso()\n",
    "\n",
    "LassoM = GridSearchCV(LassoModel,param_grid=param,scoring='neg_mean_absolute_error', cv=cv)\n",
    "LassoM.fit(X,y)\n",
    "print(\"Best Alpha: \",LassoM.best_params_['alpha'])\n",
    "\n",
    "RidgeModel = Ridge()\n",
    "\n",
    "RidgeM = GridSearchCV(RidgeModel, param_grid=param, scoring='neg_mean_absolute_error', cv=cv)\n",
    "RidgeM.fit(X, y)\n",
    "print(\"Best Alpha: \", RidgeM.best_params_['alpha'])"
   ]
  },
  {
   "cell_type": "code",
   "execution_count": 13,
   "metadata": {},
   "outputs": [
    {
     "name": "stdout",
     "output_type": "stream",
     "text": [
      "the average prediction error with full data is 4157\n"
     ]
    }
   ],
   "source": [
    "RidgeModel = Ridge(alpha=8)\n",
    "scoresridge = cross_val_score(RidgeModel,X,y,scoring='neg_mean_absolute_error', cv=cv)\n",
    "ridgeMAE = mean(absolute(scoresridge))\n",
    "print('the average prediction error with full data is %.0f' % ridgeMAE)"
   ]
  },
  {
   "cell_type": "code",
   "execution_count": 14,
   "metadata": {},
   "outputs": [
    {
     "name": "stdout",
     "output_type": "stream",
     "text": [
      "the average prediction error with full data is 4151\n"
     ]
    }
   ],
   "source": [
    "LassoModel = Lasso(alpha=80)\n",
    "scoreslasso = cross_val_score(LassoModel,X,y,scoring='neg_mean_absolute_error', cv=cv)\n",
    "lassoMAE = mean(absolute(scoreslasso))\n",
    "print('the average prediction error with full data is %.0f' % lassoMAE)"
   ]
  }
 ],
 "metadata": {
  "kernelspec": {
   "display_name": "Python 3",
   "language": "python",
   "name": "python3"
  },
  "language_info": {
   "codemirror_mode": {
    "name": "ipython",
    "version": 3
   },
   "file_extension": ".py",
   "mimetype": "text/x-python",
   "name": "python",
   "nbconvert_exporter": "python",
   "pygments_lexer": "ipython3",
   "version": "3.12.1"
  }
 },
 "nbformat": 4,
 "nbformat_minor": 2
}
